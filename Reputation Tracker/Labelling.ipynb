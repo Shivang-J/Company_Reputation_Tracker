{
 "cells": [
  {
   "cell_type": "code",
   "execution_count": null,
   "metadata": {},
   "outputs": [],
   "source": [
    "import pandas as pd\n",
    "from vaderSentiment.vaderSentiment import SentimentIntensityAnalyzer\n",
    "\n",
    "# Load dataset\n",
    "df = pd.read_csv(r\"D:\\DS Project\\Blank Twitter.csv\")\n",
    "\n",
    "# Initialize VADER sentiment analyzer\n",
    "analyzer = SentimentIntensityAnalyzer()\n",
    "\n",
    "# Function to get sentiment\n",
    "def get_sentiment(text):\n",
    "    if isinstance(text, str):  # Ensure the text is a string\n",
    "        score = analyzer.polarity_scores(text)\n",
    "        compound = score['compound']\n",
    "        \n",
    "        # Classify as positive, neutral, or negative based on compound score\n",
    "        if compound >= 0.05:\n",
    "            return 'Positive'\n",
    "        elif compound <= -0.05:\n",
    "            return 'Negative'\n",
    "        else:\n",
    "            return 'Neutral'\n",
    "    else:\n",
    "        return 'Neutral'  # Handle non-string values or NaN\n",
    "\n",
    "# Replace NaN values in the 'Tweet' column with an empty string\n",
    "df['Tweet'] = df['Tweet'].fillna('')\n",
    "\n",
    "# Apply the function to the 'Tweet' column and add 'Sentiment' column to dataset\n",
    "df['Sentiment'] = df['Tweet'].apply(get_sentiment)\n",
    "\n",
    "# Save the updated dataset to a new CSV file\n",
    "df.to_csv(\"D:\\\\DS Project\\\\Blank Twitter.csv\", index=False)\n",
    "\n",
    "# Display the first few rows of the updated dataset\n",
    "print(df.head())\n"
   ]
  }
 ],
 "metadata": {
  "kernelspec": {
   "display_name": "Python 3",
   "language": "python",
   "name": "python3"
  },
  "language_info": {
   "codemirror_mode": {
    "name": "ipython",
    "version": 3
   },
   "file_extension": ".py",
   "mimetype": "text/x-python",
   "name": "python",
   "nbconvert_exporter": "python",
   "pygments_lexer": "ipython3",
   "version": "3.12.7"
  }
 },
 "nbformat": 4,
 "nbformat_minor": 2
}
